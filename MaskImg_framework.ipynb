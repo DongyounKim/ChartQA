{
  "nbformat": 4,
  "nbformat_minor": 0,
  "metadata": {
    "colab": {
      "provenance": [],
      "machine_shape": "hm",
      "gpuType": "T4",
      "include_colab_link": true
    },
    "kernelspec": {
      "name": "python3",
      "display_name": "Python 3"
    },
    "language_info": {
      "name": "python"
    },
    "accelerator": "GPU",
    "widgets": {
      "application/vnd.jupyter.widget-state+json": {
        "53caaaa8198848cf8186fb66a0c1977c": {
          "model_module": "@jupyter-widgets/controls",
          "model_name": "HBoxModel",
          "model_module_version": "1.5.0",
          "state": {
            "_dom_classes": [],
            "_model_module": "@jupyter-widgets/controls",
            "_model_module_version": "1.5.0",
            "_model_name": "HBoxModel",
            "_view_count": null,
            "_view_module": "@jupyter-widgets/controls",
            "_view_module_version": "1.5.0",
            "_view_name": "HBoxView",
            "box_style": "",
            "children": [
              "IPY_MODEL_01f6e11f63cc40fc8e68c600d7359f41",
              "IPY_MODEL_022ce0978fe1411e818d2927c51172ac",
              "IPY_MODEL_5179adf8091b49ed967af9983fd9d522"
            ],
            "layout": "IPY_MODEL_3015b9ef30e6459cb77fb96cc61c7f20"
          }
        },
        "01f6e11f63cc40fc8e68c600d7359f41": {
          "model_module": "@jupyter-widgets/controls",
          "model_name": "HTMLModel",
          "model_module_version": "1.5.0",
          "state": {
            "_dom_classes": [],
            "_model_module": "@jupyter-widgets/controls",
            "_model_module_version": "1.5.0",
            "_model_name": "HTMLModel",
            "_view_count": null,
            "_view_module": "@jupyter-widgets/controls",
            "_view_module_version": "1.5.0",
            "_view_name": "HTMLView",
            "description": "",
            "description_tooltip": null,
            "layout": "IPY_MODEL_8341cf3b032442b18cfc77c7b956e78e",
            "placeholder": "​",
            "style": "IPY_MODEL_3459288e0d034ab386ce2e6894d3a588",
            "value": "Downloading (…)solve/main/Arial.TTF: 100%"
          }
        },
        "022ce0978fe1411e818d2927c51172ac": {
          "model_module": "@jupyter-widgets/controls",
          "model_name": "FloatProgressModel",
          "model_module_version": "1.5.0",
          "state": {
            "_dom_classes": [],
            "_model_module": "@jupyter-widgets/controls",
            "_model_module_version": "1.5.0",
            "_model_name": "FloatProgressModel",
            "_view_count": null,
            "_view_module": "@jupyter-widgets/controls",
            "_view_module_version": "1.5.0",
            "_view_name": "ProgressView",
            "bar_style": "success",
            "description": "",
            "description_tooltip": null,
            "layout": "IPY_MODEL_22751dcfcd854aa9999b49603399b29a",
            "max": 275572,
            "min": 0,
            "orientation": "horizontal",
            "style": "IPY_MODEL_af00ee81e04843a9a644cf85ffff510e",
            "value": 275572
          }
        },
        "5179adf8091b49ed967af9983fd9d522": {
          "model_module": "@jupyter-widgets/controls",
          "model_name": "HTMLModel",
          "model_module_version": "1.5.0",
          "state": {
            "_dom_classes": [],
            "_model_module": "@jupyter-widgets/controls",
            "_model_module_version": "1.5.0",
            "_model_name": "HTMLModel",
            "_view_count": null,
            "_view_module": "@jupyter-widgets/controls",
            "_view_module_version": "1.5.0",
            "_view_name": "HTMLView",
            "description": "",
            "description_tooltip": null,
            "layout": "IPY_MODEL_e2987d596b5c4cb680061c37048bd462",
            "placeholder": "​",
            "style": "IPY_MODEL_9c391c22d0ac4c7d90e3e36af42d7ced",
            "value": " 276k/276k [00:00&lt;00:00, 711kB/s]"
          }
        },
        "3015b9ef30e6459cb77fb96cc61c7f20": {
          "model_module": "@jupyter-widgets/base",
          "model_name": "LayoutModel",
          "model_module_version": "1.2.0",
          "state": {
            "_model_module": "@jupyter-widgets/base",
            "_model_module_version": "1.2.0",
            "_model_name": "LayoutModel",
            "_view_count": null,
            "_view_module": "@jupyter-widgets/base",
            "_view_module_version": "1.2.0",
            "_view_name": "LayoutView",
            "align_content": null,
            "align_items": null,
            "align_self": null,
            "border": null,
            "bottom": null,
            "display": null,
            "flex": null,
            "flex_flow": null,
            "grid_area": null,
            "grid_auto_columns": null,
            "grid_auto_flow": null,
            "grid_auto_rows": null,
            "grid_column": null,
            "grid_gap": null,
            "grid_row": null,
            "grid_template_areas": null,
            "grid_template_columns": null,
            "grid_template_rows": null,
            "height": null,
            "justify_content": null,
            "justify_items": null,
            "left": null,
            "margin": null,
            "max_height": null,
            "max_width": null,
            "min_height": null,
            "min_width": null,
            "object_fit": null,
            "object_position": null,
            "order": null,
            "overflow": null,
            "overflow_x": null,
            "overflow_y": null,
            "padding": null,
            "right": null,
            "top": null,
            "visibility": null,
            "width": null
          }
        },
        "8341cf3b032442b18cfc77c7b956e78e": {
          "model_module": "@jupyter-widgets/base",
          "model_name": "LayoutModel",
          "model_module_version": "1.2.0",
          "state": {
            "_model_module": "@jupyter-widgets/base",
            "_model_module_version": "1.2.0",
            "_model_name": "LayoutModel",
            "_view_count": null,
            "_view_module": "@jupyter-widgets/base",
            "_view_module_version": "1.2.0",
            "_view_name": "LayoutView",
            "align_content": null,
            "align_items": null,
            "align_self": null,
            "border": null,
            "bottom": null,
            "display": null,
            "flex": null,
            "flex_flow": null,
            "grid_area": null,
            "grid_auto_columns": null,
            "grid_auto_flow": null,
            "grid_auto_rows": null,
            "grid_column": null,
            "grid_gap": null,
            "grid_row": null,
            "grid_template_areas": null,
            "grid_template_columns": null,
            "grid_template_rows": null,
            "height": null,
            "justify_content": null,
            "justify_items": null,
            "left": null,
            "margin": null,
            "max_height": null,
            "max_width": null,
            "min_height": null,
            "min_width": null,
            "object_fit": null,
            "object_position": null,
            "order": null,
            "overflow": null,
            "overflow_x": null,
            "overflow_y": null,
            "padding": null,
            "right": null,
            "top": null,
            "visibility": null,
            "width": null
          }
        },
        "3459288e0d034ab386ce2e6894d3a588": {
          "model_module": "@jupyter-widgets/controls",
          "model_name": "DescriptionStyleModel",
          "model_module_version": "1.5.0",
          "state": {
            "_model_module": "@jupyter-widgets/controls",
            "_model_module_version": "1.5.0",
            "_model_name": "DescriptionStyleModel",
            "_view_count": null,
            "_view_module": "@jupyter-widgets/base",
            "_view_module_version": "1.2.0",
            "_view_name": "StyleView",
            "description_width": ""
          }
        },
        "22751dcfcd854aa9999b49603399b29a": {
          "model_module": "@jupyter-widgets/base",
          "model_name": "LayoutModel",
          "model_module_version": "1.2.0",
          "state": {
            "_model_module": "@jupyter-widgets/base",
            "_model_module_version": "1.2.0",
            "_model_name": "LayoutModel",
            "_view_count": null,
            "_view_module": "@jupyter-widgets/base",
            "_view_module_version": "1.2.0",
            "_view_name": "LayoutView",
            "align_content": null,
            "align_items": null,
            "align_self": null,
            "border": null,
            "bottom": null,
            "display": null,
            "flex": null,
            "flex_flow": null,
            "grid_area": null,
            "grid_auto_columns": null,
            "grid_auto_flow": null,
            "grid_auto_rows": null,
            "grid_column": null,
            "grid_gap": null,
            "grid_row": null,
            "grid_template_areas": null,
            "grid_template_columns": null,
            "grid_template_rows": null,
            "height": null,
            "justify_content": null,
            "justify_items": null,
            "left": null,
            "margin": null,
            "max_height": null,
            "max_width": null,
            "min_height": null,
            "min_width": null,
            "object_fit": null,
            "object_position": null,
            "order": null,
            "overflow": null,
            "overflow_x": null,
            "overflow_y": null,
            "padding": null,
            "right": null,
            "top": null,
            "visibility": null,
            "width": null
          }
        },
        "af00ee81e04843a9a644cf85ffff510e": {
          "model_module": "@jupyter-widgets/controls",
          "model_name": "ProgressStyleModel",
          "model_module_version": "1.5.0",
          "state": {
            "_model_module": "@jupyter-widgets/controls",
            "_model_module_version": "1.5.0",
            "_model_name": "ProgressStyleModel",
            "_view_count": null,
            "_view_module": "@jupyter-widgets/base",
            "_view_module_version": "1.2.0",
            "_view_name": "StyleView",
            "bar_color": null,
            "description_width": ""
          }
        },
        "e2987d596b5c4cb680061c37048bd462": {
          "model_module": "@jupyter-widgets/base",
          "model_name": "LayoutModel",
          "model_module_version": "1.2.0",
          "state": {
            "_model_module": "@jupyter-widgets/base",
            "_model_module_version": "1.2.0",
            "_model_name": "LayoutModel",
            "_view_count": null,
            "_view_module": "@jupyter-widgets/base",
            "_view_module_version": "1.2.0",
            "_view_name": "LayoutView",
            "align_content": null,
            "align_items": null,
            "align_self": null,
            "border": null,
            "bottom": null,
            "display": null,
            "flex": null,
            "flex_flow": null,
            "grid_area": null,
            "grid_auto_columns": null,
            "grid_auto_flow": null,
            "grid_auto_rows": null,
            "grid_column": null,
            "grid_gap": null,
            "grid_row": null,
            "grid_template_areas": null,
            "grid_template_columns": null,
            "grid_template_rows": null,
            "height": null,
            "justify_content": null,
            "justify_items": null,
            "left": null,
            "margin": null,
            "max_height": null,
            "max_width": null,
            "min_height": null,
            "min_width": null,
            "object_fit": null,
            "object_position": null,
            "order": null,
            "overflow": null,
            "overflow_x": null,
            "overflow_y": null,
            "padding": null,
            "right": null,
            "top": null,
            "visibility": null,
            "width": null
          }
        },
        "9c391c22d0ac4c7d90e3e36af42d7ced": {
          "model_module": "@jupyter-widgets/controls",
          "model_name": "DescriptionStyleModel",
          "model_module_version": "1.5.0",
          "state": {
            "_model_module": "@jupyter-widgets/controls",
            "_model_module_version": "1.5.0",
            "_model_name": "DescriptionStyleModel",
            "_view_count": null,
            "_view_module": "@jupyter-widgets/base",
            "_view_module_version": "1.2.0",
            "_view_name": "StyleView",
            "description_width": ""
          }
        }
      }
    }
  },
  "cells": [
    {
      "cell_type": "markdown",
      "metadata": {
        "id": "view-in-github",
        "colab_type": "text"
      },
      "source": [
        "<a href=\"https://colab.research.google.com/github/DongyounKim/ChartQA/blob/main/MaskImg_framework.ipynb\" target=\"_parent\"><img src=\"https://colab.research.google.com/assets/colab-badge.svg\" alt=\"Open In Colab\"/></a>"
      ]
    },
    {
      "cell_type": "code",
      "execution_count": 1,
      "metadata": {
        "colab": {
          "base_uri": "https://localhost:8080/"
        },
        "id": "zLPNT7rCaMn2",
        "outputId": "80b4dbbc-ef25-4911-e77b-312413fedcd7"
      },
      "outputs": [
        {
          "output_type": "stream",
          "name": "stdout",
          "text": [
            "Requirement already satisfied: torchmultimodal-nightly in /usr/local/lib/python3.10/dist-packages (2023.8.31)\n",
            "Requirement already satisfied: DALL-E==0.1 in /usr/local/lib/python3.10/dist-packages (from torchmultimodal-nightly) (0.1)\n",
            "Requirement already satisfied: iopath in /usr/local/lib/python3.10/dist-packages (from torchmultimodal-nightly) (0.1.10)\n",
            "Requirement already satisfied: attrs==23.1.0 in /usr/local/lib/python3.10/dist-packages (from torchmultimodal-nightly) (23.1.0)\n",
            "Requirement already satisfied: Pillow in /usr/local/lib/python3.10/dist-packages (from DALL-E==0.1->torchmultimodal-nightly) (9.4.0)\n",
            "Requirement already satisfied: blobfile in /usr/local/lib/python3.10/dist-packages (from DALL-E==0.1->torchmultimodal-nightly) (2.0.2)\n",
            "Requirement already satisfied: mypy in /usr/local/lib/python3.10/dist-packages (from DALL-E==0.1->torchmultimodal-nightly) (1.5.1)\n",
            "Requirement already satisfied: numpy in /usr/local/lib/python3.10/dist-packages (from DALL-E==0.1->torchmultimodal-nightly) (1.23.5)\n",
            "Requirement already satisfied: pytest in /usr/local/lib/python3.10/dist-packages (from DALL-E==0.1->torchmultimodal-nightly) (7.4.1)\n",
            "Requirement already satisfied: requests in /usr/local/lib/python3.10/dist-packages (from DALL-E==0.1->torchmultimodal-nightly) (2.31.0)\n",
            "Requirement already satisfied: torch in /usr/local/lib/python3.10/dist-packages (from DALL-E==0.1->torchmultimodal-nightly) (2.0.1+cu118)\n",
            "Requirement already satisfied: torchvision in /usr/local/lib/python3.10/dist-packages (from DALL-E==0.1->torchmultimodal-nightly) (0.15.2+cu118)\n",
            "Requirement already satisfied: tqdm in /usr/local/lib/python3.10/dist-packages (from iopath->torchmultimodal-nightly) (4.66.1)\n",
            "Requirement already satisfied: typing-extensions in /usr/local/lib/python3.10/dist-packages (from iopath->torchmultimodal-nightly) (4.5.0)\n",
            "Requirement already satisfied: portalocker in /usr/local/lib/python3.10/dist-packages (from iopath->torchmultimodal-nightly) (2.8.2)\n",
            "Requirement already satisfied: pycryptodomex~=3.8 in /usr/local/lib/python3.10/dist-packages (from blobfile->DALL-E==0.1->torchmultimodal-nightly) (3.19.0)\n",
            "Requirement already satisfied: urllib3<3,>=1.25.3 in /usr/local/lib/python3.10/dist-packages (from blobfile->DALL-E==0.1->torchmultimodal-nightly) (2.0.4)\n",
            "Requirement already satisfied: lxml~=4.9 in /usr/local/lib/python3.10/dist-packages (from blobfile->DALL-E==0.1->torchmultimodal-nightly) (4.9.3)\n",
            "Requirement already satisfied: filelock~=3.0 in /usr/local/lib/python3.10/dist-packages (from blobfile->DALL-E==0.1->torchmultimodal-nightly) (3.12.2)\n",
            "Requirement already satisfied: mypy-extensions>=1.0.0 in /usr/local/lib/python3.10/dist-packages (from mypy->DALL-E==0.1->torchmultimodal-nightly) (1.0.0)\n",
            "Requirement already satisfied: tomli>=1.1.0 in /usr/local/lib/python3.10/dist-packages (from mypy->DALL-E==0.1->torchmultimodal-nightly) (2.0.1)\n",
            "Requirement already satisfied: iniconfig in /usr/local/lib/python3.10/dist-packages (from pytest->DALL-E==0.1->torchmultimodal-nightly) (2.0.0)\n",
            "Requirement already satisfied: packaging in /usr/local/lib/python3.10/dist-packages (from pytest->DALL-E==0.1->torchmultimodal-nightly) (23.1)\n",
            "Requirement already satisfied: pluggy<2.0,>=0.12 in /usr/local/lib/python3.10/dist-packages (from pytest->DALL-E==0.1->torchmultimodal-nightly) (1.3.0)\n",
            "Requirement already satisfied: exceptiongroup>=1.0.0rc8 in /usr/local/lib/python3.10/dist-packages (from pytest->DALL-E==0.1->torchmultimodal-nightly) (1.1.3)\n",
            "Requirement already satisfied: charset-normalizer<4,>=2 in /usr/local/lib/python3.10/dist-packages (from requests->DALL-E==0.1->torchmultimodal-nightly) (3.2.0)\n",
            "Requirement already satisfied: idna<4,>=2.5 in /usr/local/lib/python3.10/dist-packages (from requests->DALL-E==0.1->torchmultimodal-nightly) (3.4)\n",
            "Requirement already satisfied: certifi>=2017.4.17 in /usr/local/lib/python3.10/dist-packages (from requests->DALL-E==0.1->torchmultimodal-nightly) (2023.7.22)\n",
            "Requirement already satisfied: sympy in /usr/local/lib/python3.10/dist-packages (from torch->DALL-E==0.1->torchmultimodal-nightly) (1.12)\n",
            "Requirement already satisfied: networkx in /usr/local/lib/python3.10/dist-packages (from torch->DALL-E==0.1->torchmultimodal-nightly) (3.1)\n",
            "Requirement already satisfied: jinja2 in /usr/local/lib/python3.10/dist-packages (from torch->DALL-E==0.1->torchmultimodal-nightly) (3.1.2)\n",
            "Requirement already satisfied: triton==2.0.0 in /usr/local/lib/python3.10/dist-packages (from torch->DALL-E==0.1->torchmultimodal-nightly) (2.0.0)\n",
            "Requirement already satisfied: cmake in /usr/local/lib/python3.10/dist-packages (from triton==2.0.0->torch->DALL-E==0.1->torchmultimodal-nightly) (3.27.4.1)\n",
            "Requirement already satisfied: lit in /usr/local/lib/python3.10/dist-packages (from triton==2.0.0->torch->DALL-E==0.1->torchmultimodal-nightly) (16.0.6)\n",
            "Requirement already satisfied: MarkupSafe>=2.0 in /usr/local/lib/python3.10/dist-packages (from jinja2->torch->DALL-E==0.1->torchmultimodal-nightly) (2.1.3)\n",
            "Requirement already satisfied: mpmath>=0.19 in /usr/local/lib/python3.10/dist-packages (from sympy->torch->DALL-E==0.1->torchmultimodal-nightly) (1.3.0)\n",
            "Requirement already satisfied: datasets in /usr/local/lib/python3.10/dist-packages (2.14.5)\n",
            "Requirement already satisfied: numpy>=1.17 in /usr/local/lib/python3.10/dist-packages (from datasets) (1.23.5)\n",
            "Requirement already satisfied: pyarrow>=8.0.0 in /usr/local/lib/python3.10/dist-packages (from datasets) (9.0.0)\n",
            "Requirement already satisfied: dill<0.3.8,>=0.3.0 in /usr/local/lib/python3.10/dist-packages (from datasets) (0.3.7)\n",
            "Requirement already satisfied: pandas in /usr/local/lib/python3.10/dist-packages (from datasets) (1.5.3)\n",
            "Requirement already satisfied: requests>=2.19.0 in /usr/local/lib/python3.10/dist-packages (from datasets) (2.31.0)\n",
            "Requirement already satisfied: tqdm>=4.62.1 in /usr/local/lib/python3.10/dist-packages (from datasets) (4.66.1)\n",
            "Requirement already satisfied: xxhash in /usr/local/lib/python3.10/dist-packages (from datasets) (3.3.0)\n",
            "Requirement already satisfied: multiprocess in /usr/local/lib/python3.10/dist-packages (from datasets) (0.70.15)\n",
            "Requirement already satisfied: fsspec[http]<2023.9.0,>=2023.1.0 in /usr/local/lib/python3.10/dist-packages (from datasets) (2023.6.0)\n",
            "Requirement already satisfied: aiohttp in /usr/local/lib/python3.10/dist-packages (from datasets) (3.8.5)\n",
            "Requirement already satisfied: huggingface-hub<1.0.0,>=0.14.0 in /usr/local/lib/python3.10/dist-packages (from datasets) (0.17.3)\n",
            "Requirement already satisfied: packaging in /usr/local/lib/python3.10/dist-packages (from datasets) (23.1)\n",
            "Requirement already satisfied: pyyaml>=5.1 in /usr/local/lib/python3.10/dist-packages (from datasets) (6.0.1)\n",
            "Requirement already satisfied: attrs>=17.3.0 in /usr/local/lib/python3.10/dist-packages (from aiohttp->datasets) (23.1.0)\n",
            "Requirement already satisfied: charset-normalizer<4.0,>=2.0 in /usr/local/lib/python3.10/dist-packages (from aiohttp->datasets) (3.2.0)\n",
            "Requirement already satisfied: multidict<7.0,>=4.5 in /usr/local/lib/python3.10/dist-packages (from aiohttp->datasets) (6.0.4)\n",
            "Requirement already satisfied: async-timeout<5.0,>=4.0.0a3 in /usr/local/lib/python3.10/dist-packages (from aiohttp->datasets) (4.0.3)\n",
            "Requirement already satisfied: yarl<2.0,>=1.0 in /usr/local/lib/python3.10/dist-packages (from aiohttp->datasets) (1.9.2)\n",
            "Requirement already satisfied: frozenlist>=1.1.1 in /usr/local/lib/python3.10/dist-packages (from aiohttp->datasets) (1.4.0)\n",
            "Requirement already satisfied: aiosignal>=1.1.2 in /usr/local/lib/python3.10/dist-packages (from aiohttp->datasets) (1.3.1)\n",
            "Requirement already satisfied: filelock in /usr/local/lib/python3.10/dist-packages (from huggingface-hub<1.0.0,>=0.14.0->datasets) (3.12.2)\n",
            "Requirement already satisfied: typing-extensions>=3.7.4.3 in /usr/local/lib/python3.10/dist-packages (from huggingface-hub<1.0.0,>=0.14.0->datasets) (4.5.0)\n",
            "Requirement already satisfied: idna<4,>=2.5 in /usr/local/lib/python3.10/dist-packages (from requests>=2.19.0->datasets) (3.4)\n",
            "Requirement already satisfied: urllib3<3,>=1.21.1 in /usr/local/lib/python3.10/dist-packages (from requests>=2.19.0->datasets) (2.0.4)\n",
            "Requirement already satisfied: certifi>=2017.4.17 in /usr/local/lib/python3.10/dist-packages (from requests>=2.19.0->datasets) (2023.7.22)\n",
            "Requirement already satisfied: python-dateutil>=2.8.1 in /usr/local/lib/python3.10/dist-packages (from pandas->datasets) (2.8.2)\n",
            "Requirement already satisfied: pytz>=2020.1 in /usr/local/lib/python3.10/dist-packages (from pandas->datasets) (2023.3.post1)\n",
            "Requirement already satisfied: six>=1.5 in /usr/local/lib/python3.10/dist-packages (from python-dateutil>=2.8.1->pandas->datasets) (1.16.0)\n",
            "Requirement already satisfied: transformers in /usr/local/lib/python3.10/dist-packages (4.33.3)\n",
            "Requirement already satisfied: filelock in /usr/local/lib/python3.10/dist-packages (from transformers) (3.12.2)\n",
            "Requirement already satisfied: huggingface-hub<1.0,>=0.15.1 in /usr/local/lib/python3.10/dist-packages (from transformers) (0.17.3)\n",
            "Requirement already satisfied: numpy>=1.17 in /usr/local/lib/python3.10/dist-packages (from transformers) (1.23.5)\n",
            "Requirement already satisfied: packaging>=20.0 in /usr/local/lib/python3.10/dist-packages (from transformers) (23.1)\n",
            "Requirement already satisfied: pyyaml>=5.1 in /usr/local/lib/python3.10/dist-packages (from transformers) (6.0.1)\n",
            "Requirement already satisfied: regex!=2019.12.17 in /usr/local/lib/python3.10/dist-packages (from transformers) (2023.6.3)\n",
            "Requirement already satisfied: requests in /usr/local/lib/python3.10/dist-packages (from transformers) (2.31.0)\n",
            "Requirement already satisfied: tokenizers!=0.11.3,<0.14,>=0.11.1 in /usr/local/lib/python3.10/dist-packages (from transformers) (0.13.3)\n",
            "Requirement already satisfied: safetensors>=0.3.1 in /usr/local/lib/python3.10/dist-packages (from transformers) (0.3.3)\n",
            "Requirement already satisfied: tqdm>=4.27 in /usr/local/lib/python3.10/dist-packages (from transformers) (4.66.1)\n",
            "Requirement already satisfied: fsspec in /usr/local/lib/python3.10/dist-packages (from huggingface-hub<1.0,>=0.15.1->transformers) (2023.6.0)\n",
            "Requirement already satisfied: typing-extensions>=3.7.4.3 in /usr/local/lib/python3.10/dist-packages (from huggingface-hub<1.0,>=0.15.1->transformers) (4.5.0)\n",
            "Requirement already satisfied: charset-normalizer<4,>=2 in /usr/local/lib/python3.10/dist-packages (from requests->transformers) (3.2.0)\n",
            "Requirement already satisfied: idna<4,>=2.5 in /usr/local/lib/python3.10/dist-packages (from requests->transformers) (3.4)\n",
            "Requirement already satisfied: urllib3<3,>=1.21.1 in /usr/local/lib/python3.10/dist-packages (from requests->transformers) (2.0.4)\n",
            "Requirement already satisfied: certifi>=2017.4.17 in /usr/local/lib/python3.10/dist-packages (from requests->transformers) (2023.7.22)\n",
            "Requirement already satisfied: sentencepiece in /usr/local/lib/python3.10/dist-packages (0.1.99)\n"
          ]
        }
      ],
      "source": [
        "!pip install torchmultimodal-nightly\n",
        "!pip install datasets\n",
        "!pip install transformers\n",
        "#For tokenizer\n",
        "!pip install sentencepiece"
      ]
    },
    {
      "cell_type": "code",
      "source": [
        "\"\"\"\n",
        "Download dataset\n",
        "\"\"\"\n",
        "from datasets import load_dataset\n",
        "#dataset = load_dataset(\"Dodon/ChartQA_dataset\", split='train', streaming=True)\n",
        "dataset = load_dataset(\"Dodon/ChartQA_dataset\")\n",
        "#dataset features names (key)\n",
        "print(dataset['test'].features)\n",
        "\n",
        "\"\"\"\n",
        "Consideration\n",
        "1. table and img_ann type ~ as Dict\n",
        "2. 'query_tokens' ~ required\n",
        "\"\"\""
      ],
      "metadata": {
        "id": "7l8AoQjTb5oR",
        "colab": {
          "base_uri": "https://localhost:8080/",
          "height": 73
        },
        "outputId": "d03614d6-1b35-49ef-cef1-1d72053048a4"
      },
      "execution_count": 2,
      "outputs": [
        {
          "output_type": "stream",
          "name": "stdout",
          "text": [
            "{'imgname': Value(dtype='string', id=None), 'image': Image(decode=True, id=None), 'human': Value(dtype='bool', id=None), 'query': Value(dtype='string', id=None), 'query_token': Sequence(feature=Value(dtype='string', id=None), length=-1, id=None), 'label': Value(dtype='string', id=None), 'table_name': Value(dtype='string', id=None), 'table': Value(dtype='string', id=None), 'img_ann': Value(dtype='string', id=None)}\n"
          ]
        },
        {
          "output_type": "execute_result",
          "data": {
            "text/plain": [
              "\"\\nConsideration\\n1. table and img_ann type ~ as Dict\\n2. 'query_tokens' ~ required\\n\""
            ],
            "application/vnd.google.colaboratory.intrinsic+json": {
              "type": "string"
            }
          },
          "metadata": {},
          "execution_count": 2
        }
      ]
    },
    {
      "cell_type": "code",
      "source": [
        "\"\"\"\n",
        "Example dataset ~ range(10)\n",
        "\"\"\"\n",
        "example_data = dataset['train'].select(range(10))\n",
        "#Display ()"
      ],
      "metadata": {
        "id": "qtCe_iKXC-jr"
      },
      "execution_count": 3,
      "outputs": []
    },
    {
      "cell_type": "code",
      "source": [
        "\"\"\"\n",
        "After load PlotQA ~ add dataset preprocessing class depends on their dataset\n",
        "\"\"\"\n",
        "# from torch.utils.data import Dataset\n",
        "# class ChartQAdataset(Dataset):\n",
        "#   #NUM_LABELS = 5\n",
        "#   def __init__(self, data_args, tokenizer, mode ='train'):\n",
        "#     self.tokenizer = tokenizer\n",
        "#     self.num_img_embeds = 0"
      ],
      "metadata": {
        "colab": {
          "base_uri": "https://localhost:8080/",
          "height": 35
        },
        "id": "yHmgaXrB_ssl",
        "outputId": "05ec4823-3562-4081-919f-5ade214d9623"
      },
      "execution_count": 4,
      "outputs": [
        {
          "output_type": "execute_result",
          "data": {
            "text/plain": [
              "'\\nAfter load PlotQA ~ add dataset preprocessing class depends on their dataset\\n'"
            ],
            "application/vnd.google.colaboratory.intrinsic+json": {
              "type": "string"
            }
          },
          "metadata": {},
          "execution_count": 4
        }
      ]
    },
    {
      "cell_type": "markdown",
      "source": [
        "2. Load pre-trained tokenizer\n",
        "  \n",
        "  a. Text - T5 small\n",
        "\n",
        "  b. Image -"
      ],
      "metadata": {
        "id": "MgQGjh0gJ-tw"
      }
    },
    {
      "cell_type": "code",
      "source": [
        "\"\"\"\n",
        "Tokenizer\n",
        "1. image to tensor\n",
        "2. text to tensor\n",
        "3. [masking area]\n",
        "\"\"\"\n",
        "import torch\n",
        "from PIL import Image\n",
        "import torchvision.transforms as transforms\n",
        "from transformers import T5Tokenizer, T5TokenizerFast, PreTrainedTokenizer, PreTrainedTokenizerBase\n",
        "\n",
        "tokenizer = T5Tokenizer.from_pretrained(\"t5-small\")"
      ],
      "metadata": {
        "colab": {
          "base_uri": "https://localhost:8080/"
        },
        "id": "VRZT8fJe-K__",
        "outputId": "d8216db1-888e-430d-c4ff-9c5b6522fa19"
      },
      "execution_count": 5,
      "outputs": [
        {
          "output_type": "stream",
          "name": "stderr",
          "text": [
            "You are using the default legacy behaviour of the <class 'transformers.models.t5.tokenization_t5.T5Tokenizer'>. If you see this, DO NOT PANIC! This is expected, and simply means that the `legacy` (previous) behavior will be used so nothing changes for you. If you want to use the new behaviour, set `legacy=False`. This should only be set if you understand what it means, and thouroughly read the reason why this was added as explained in https://github.com/huggingface/transformers/pull/24565\n"
          ]
        }
      ]
    },
    {
      "cell_type": "code",
      "source": [
        "\"\"\"\n",
        "Text to tensor\n",
        "\"\"\"\n",
        "queries = example_data['query']\n",
        "print(queries)\n",
        "token_query = tokenizer(queries, padding=True, truncation=True, return_tensors=\"pt\")\n",
        "print(token_query['input_ids'])"
      ],
      "metadata": {
        "colab": {
          "base_uri": "https://localhost:8080/"
        },
        "id": "aZfIVTKxGDAl",
        "outputId": "680390a2-c957-4a34-d33a-b77b9a6a0906"
      },
      "execution_count": 6,
      "outputs": [
        {
          "output_type": "stream",
          "name": "stdout",
          "text": [
            "['As of 2021, how many championship titles had Ferrari won?', 'What game topped the charts with 512.3 million hours watched on Twitch in the first half of 2019?', 'How many hours did League of Legends watch on Twitch in the first half of 2019?', 'Which country was the leading pharmaceutical supplier to Germany in 2019?', 'What is the region with the highest number of ICUs in Italy?', 'What was the global sales income of certified Fairtrade International coffee in 2018?', \"What percentage of Belize's GDP did the national debt amount to in 2019?\", 'In what year did the Mexican government spend 6.61 billion dollars in the military?', 'How much did the Mexican government spend in the military a year earlier?', 'What percentage of the GDP of the United States was exported in 1990?']\n",
            "tensor([[  282,    13,   460,  2658,     6,   149,   186, 10183,  8342,   141,\n",
            "         21945,   751,    58,     1,     0,     0,     0,     0,     0,     0,\n",
            "             0,     0,     0,     0],\n",
            "        [  363,   467,     3, 12403,     8, 12321,    28, 11696, 18561,   770,\n",
            "           716,  7533,    30, 12119,    17,   524,    16,     8,   166,   985,\n",
            "            13,  1360,    58,     1],\n",
            "        [  571,   186,   716,   410,  3815,    13, 13637,     7,  1605,    30,\n",
            "         12119,    17,   524,    16,     8,   166,   985,    13,  1360,    58,\n",
            "             1,     0,     0,     0],\n",
            "        [ 4073,   684,    47,     8,  1374, 14106,  8106,    12,  3434,    16,\n",
            "          1360,    58,     1,     0,     0,     0,     0,     0,     0,     0,\n",
            "             0,     0,     0,     0],\n",
            "        [  363,    19,     8,  1719,    28,     8,  2030,   381,    13,    27,\n",
            "          5211,     7,    16,  5308,    58,     1,     0,     0,     0,     0,\n",
            "             0,     0,     0,     0],\n",
            "        [  363,    47,     8,  1252,  1085,  2055,    13,  4970,  4506, 16628,\n",
            "          1331,  1975,    16,   846,    58,     1,     0,     0,     0,     0,\n",
            "             0,     0,     0,     0],\n",
            "        [  363,  5294,    13, 28996,    31,     7, 11284,   410,     8,  1157,\n",
            "          2814,   866,    12,    16,  1360,    58,     1,     0,     0,     0,\n",
            "             0,     0,     0,     0],\n",
            "        [   86,   125,   215,   410,     8, 11511,   789,  1492,  4357,  4241,\n",
            "          2108,  3740,    16,     8,  2716,    58,     1,     0,     0,     0,\n",
            "             0,     0,     0,     0],\n",
            "        [  571,   231,   410,     8, 11511,   789,  1492,    16,     8,  2716,\n",
            "             3,     9,   215,  2283,    58,     1,     0,     0,     0,     0,\n",
            "             0,     0,     0,     0],\n",
            "        [  363,  5294,    13,     8, 11284,    13,     8,   907,  1323,    47,\n",
            "         27343,    16,  5541,    58,     1,     0,     0,     0,     0,     0,\n",
            "             0,     0,     0,     0]])\n"
          ]
        }
      ]
    },
    {
      "cell_type": "code",
      "source": [
        "\"\"\"\n",
        "Image to tensor\n",
        "\"\"\"\n",
        "\n",
        "imgs = example_data['image']\n",
        "print(imgs)\n",
        "transform = transforms.Compose([\n",
        "    transforms.PILToTensor()\n",
        "    #Augmentation + crop\n",
        "     ])\n",
        "img_tensors = transform(imgs[0])\n",
        "#torchvision.transforms.RandomResizedCrop(size, scale=(0.08, 1.0), ratio=(0.75, 1.3333333333333333), interpolation=2)\n",
        "print(img_tensors.shape)"
      ],
      "metadata": {
        "colab": {
          "base_uri": "https://localhost:8080/"
        },
        "id": "GdzfwIgvIG0l",
        "outputId": "3da9b26b-64b6-476a-c428-59e5b03f6f56"
      },
      "execution_count": 7,
      "outputs": [
        {
          "output_type": "stream",
          "name": "stdout",
          "text": [
            "[<PIL.PngImagePlugin.PngImageFile image mode=RGBA size=800x836 at 0x7B79CCD8CDF0>, <PIL.PngImagePlugin.PngImageFile image mode=RGBA size=800x557 at 0x7B79CCD8CDC0>, <PIL.PngImagePlugin.PngImageFile image mode=RGBA size=800x557 at 0x7B79CCD8CE20>, <PIL.PngImagePlugin.PngImageFile image mode=RGBA size=800x716 at 0x7B79CC7095D0>, <PIL.PngImagePlugin.PngImageFile image mode=RGBA size=800x1056 at 0x7B79CC709600>, <PIL.PngImagePlugin.PngImageFile image mode=RGBA size=800x557 at 0x7B79CC709630>, <PIL.PngImagePlugin.PngImageFile image mode=RGBA size=800x557 at 0x7B79CC709660>, <PIL.PngImagePlugin.PngImageFile image mode=RGBA size=800x557 at 0x7B79CC709690>, <PIL.PngImagePlugin.PngImageFile image mode=RGBA size=800x557 at 0x7B79CC7096C0>, <PIL.PngImagePlugin.PngImageFile image mode=RGBA size=800x1286 at 0x7B79CC7096F0>]\n",
            "torch.Size([4, 836, 800])\n"
          ]
        }
      ]
    },
    {
      "cell_type": "code",
      "source": [
        "import matplotlib.pyplot as plt\n",
        "import ast\n",
        "import random\n",
        "import torchvision.transforms.functional as F\n",
        "\n",
        "def convert_dict(_img_ann):\n",
        "    batch = {}\n",
        "    # Your data collation logic here\n",
        "    #for _idx, sample in enumerate(samples):\n",
        "    if type(_img_ann) == str:\n",
        "      if (len(_img_ann)>0):\n",
        "        img_annotation = ast.literal_eval(_img_ann)\n",
        "    else:\n",
        "      img_annotation= _img_ann\n",
        "      #print(\"index : \", _idx )\n",
        "      print(\"Error\")\n",
        "      print(_img_ann)\n",
        "    #collated_data = {'img_a':img_annotation}\n",
        "    #return collated_data\n",
        "    return img_annotation\n",
        "\"\"\"\n",
        "mask_config format\n",
        "\"\"\"\n",
        "#!requirement: change the mask_config format\n",
        "mask_config = {'msk_region': 'random', 'msk_ratio': 0.2}\n",
        "class Masking_img:\n",
        "  def __init__(self, mask_config, transform = transforms.Compose([transforms.PILToTensor()])):\n",
        "    self.mask_region = mask_config['msk_region']\n",
        "    self.mask_ratio = mask_config['msk_ratio']\n",
        "    self.transforms = transform\n",
        "\n",
        "  def __call__(self, data):\n",
        "    self.img_name = data['imgname']\n",
        "\n",
        "    print(self.img_name)\n",
        "\n",
        "    self.original_img = data['image'].convert('RGB')\n",
        "    self.img_tensor = self.transforms(self.original_img)\n",
        "    self.img_label = self.img_tensor.clone()\n",
        "    #\n",
        "    self.height, self.width = self.img_label.shape[1], self.img_label.shape[2]\n",
        "    print(f\"Image size: {self.height, self.width}\")\n",
        "\n",
        "    #self.total_mask_img = torch.randint(1,(self.height, self.width))\n",
        "    #print(self.total_mask_img)\n",
        "    \"\"\"\n",
        "    1. Load Image annotation (Type change)\n",
        "    \"\"\"\n",
        "    #img_annotation\n",
        "    self.img_ann = convert_dict(data['img_ann'])\n",
        "    #print(self.img_ann) # dict\n",
        "    #tensor\n",
        "\n",
        "    \"\"\"\n",
        "    2.a Masking random\n",
        "    \"\"\"\n",
        "    if self.mask_region == 'random':\n",
        "      print(\"Random range\")\n",
        "      return self.img_label, self.random_masking()\n",
        "\n",
        "    elif self.mask_region =='axis':\n",
        "      print(\"Under Construction\")\n",
        "      return self.original_img, self.img_tensor\n",
        "    \"\"\"\n",
        "    3. Resize them following the model\n",
        "    \"\"\"\n",
        "    #return self.original_img, self.img_tensor\n",
        "\n",
        "  \"\"\"\n",
        "  return the tensor\n",
        "  \"\"\"\n",
        "  def random_masking(self):\n",
        "    if ('figure_info' in self.img_ann['general_figure_info']):\n",
        "      self._candidate_bbox = [self.img_ann['general_figure_info']['figure_info']['bbox']]\n",
        "      self._name = \"Random in figure info\"\n",
        "      \"\"\"\n",
        "      Mask a region\n",
        "      \"\"\"\n",
        "      #1. Grid information\n",
        "      self._x, self._y = self._candidate_bbox[0]['x'], self._candidate_bbox[0]['y']\n",
        "      self._w, self._h = self._candidate_bbox[0]['w'], self._candidate_bbox[0]['h']\n",
        "      \"\"\"\n",
        "      Grid size = each erased grid size relied on mask ratio\n",
        "      self._area = self._h * self._w\n",
        "      \"\"\"\n",
        "      self._grid_w = int(self._w * self.mask_ratio * 0.8)\n",
        "      self._grid_h = int(self._h * self.mask_ratio* 0.8)\n",
        "      # The number of grid\n",
        "      self.num_grid = 50\n",
        "      self._grid_list = []\n",
        "      random.seed(5)\n",
        "      for _tmp in range(self.num_grid):\n",
        "        self._g_x = random.randint(self._x, self._x+self._w)\n",
        "        self._g_y = random.randint(self._y, self._y+self._h)\n",
        "        self._grid_list.append((self._g_x,self._g_y))\n",
        "\n",
        "      self._masked_image = self.img_tensor.clone()\n",
        "      for _loc in self._grid_list:\n",
        "        self._masked_image=F.erase(self._masked_image, _loc[1],_loc[0], self._grid_w, self._grid_h, torch.zeros(1))\n",
        "\n",
        "      \"\"\"\n",
        "      Visualization\n",
        "      \"\"\"\n",
        "      #self.masked_output_img = F.to_pil_image(self._masked_image)\n",
        "      #plt.imshow(self.masked_output_img)\n",
        "      #plt.show()\n",
        "      #tensor return\n",
        "      return self._masked_image\n",
        "    else:\n",
        "      print(\"total\")\n",
        "      #1. Grid information\n",
        "      self._x, self._y = 0, 0\n",
        "      self._w, self._h = self.height, self.width\n",
        "      #Random masking\n",
        "      \"\"\"\n",
        "      Same above after assigning the area\n",
        "      Grid size = each erased grid size relied on mask ratio\n",
        "      self._area = self._h * self._w\n",
        "      \"\"\"\n",
        "      self._grid_w = int(self._w * self.mask_ratio * 0.8)\n",
        "      self._grid_h = int(self._h * self.mask_ratio* 0.8)\n",
        "      # The number of grid\n",
        "      self.num_grid = 50\n",
        "      self._grid_list = []\n",
        "      random.seed(5)\n",
        "      for _tmp in range(self.num_grid):\n",
        "        self._g_x = random.randint(self._x, self._x+self._w)\n",
        "        self._g_y = random.randint(self._y, self._y+self._h)\n",
        "        self._grid_list.append((self._g_x,self._g_y))\n",
        "\n",
        "      self._masked_image = self.img_tensor.clone()\n",
        "      for _loc in self._grid_list:\n",
        "        self._masked_image=F.erase(self._masked_image, _loc[1],_loc[0], self._grid_w, self._grid_h, torch.zeros(1))\n",
        "\n",
        "      self.masked_output_img = F.to_pil_image(self._masked_image)\n",
        "      plt.imshow(self.masked_output_img)\n",
        "      plt.show()\n",
        "      #tensor return\n",
        "      return self._masked_image"
      ],
      "metadata": {
        "id": "zHL9023vKkSx"
      },
      "execution_count": 32,
      "outputs": []
    },
    {
      "cell_type": "code",
      "source": [
        "msk_generator = Masking_img(mask_config)\n",
        "_org, _tensor = msk_generator(example_data[0])\n",
        "print(_org)\n",
        "print(_tensor.shape)\n",
        "#repr(msk_generator)\n",
        "print(_tensor.clone())"
      ],
      "metadata": {
        "colab": {
          "base_uri": "https://localhost:8080/",
          "height": 1000
        },
        "id": "sHKjXxsmQSwm",
        "outputId": "e43209af-e7d4-43da-8033-7526c7c9d65b"
      },
      "execution_count": 18,
      "outputs": [
        {
          "output_type": "stream",
          "name": "stdout",
          "text": [
            "two_col_103562.png\n",
            "Image size: (836, 800)\n",
            "Random range\n"
          ]
        },
        {
          "output_type": "display_data",
          "data": {
            "text/plain": [
              "<Figure size 640x480 with 1 Axes>"
            ],
            "image/png": "[encoded data removed]"
          },
          "metadata": {}
        },
        {
          "output_type": "stream",
          "name": "stdout",
          "text": [
            "tensor([[[253, 253, 253,  ..., 252, 252, 252],\n",
            "         [253, 253, 253,  ..., 252, 252, 251],\n",
            "         [253, 253, 252,  ..., 251, 251, 251],\n",
            "         ...,\n",
            "         [251, 250, 249,  ..., 249, 250, 251],\n",
            "         [251, 250, 250,  ..., 250, 250, 251],\n",
            "         [251, 251, 250,  ..., 250, 251, 251]],\n",
            "\n",
            "        [[253, 253, 253,  ..., 252, 252, 252],\n",
            "         [253, 253, 254,  ..., 253, 252, 251],\n",
            "         [253, 254, 253,  ..., 252, 252, 251],\n",
            "         ...,\n",
            "         [252, 251, 250,  ..., 250, 251, 252],\n",
            "         [252, 251, 251,  ..., 251, 251, 252],\n",
            "         [251, 252, 251,  ..., 251, 252, 251]],\n",
            "\n",
            "        [[254, 254, 254,  ..., 253, 253, 254],\n",
            "         [254, 254, 254,  ..., 253, 254, 253],\n",
            "         [254, 254, 253,  ..., 253, 253, 253],\n",
            "         ...,\n",
            "         [253, 252, 251,  ..., 251, 252, 253],\n",
            "         [252, 252, 252,  ..., 252, 252, 252],\n",
            "         [252, 252, 252,  ..., 252, 252, 252]]], dtype=torch.uint8)\n",
            "torch.Size([3, 836, 800])\n",
            "tensor([[[253, 253, 253,  ..., 252, 252, 252],\n",
            "         [253, 253, 253,  ..., 252, 252, 251],\n",
            "         [253, 253, 252,  ..., 251, 251, 251],\n",
            "         ...,\n",
            "         [251, 250, 249,  ..., 249, 250, 251],\n",
            "         [251, 250, 250,  ..., 250, 250, 251],\n",
            "         [251, 251, 250,  ..., 250, 251, 251]],\n",
            "\n",
            "        [[253, 253, 253,  ..., 252, 252, 252],\n",
            "         [253, 253, 254,  ..., 253, 252, 251],\n",
            "         [253, 254, 253,  ..., 252, 252, 251],\n",
            "         ...,\n",
            "         [252, 251, 250,  ..., 250, 251, 252],\n",
            "         [252, 251, 251,  ..., 251, 251, 252],\n",
            "         [251, 252, 251,  ..., 251, 252, 251]],\n",
            "\n",
            "        [[254, 254, 254,  ..., 253, 253, 254],\n",
            "         [254, 254, 254,  ..., 253, 254, 253],\n",
            "         [254, 254, 253,  ..., 253, 253, 253],\n",
            "         ...,\n",
            "         [253, 252, 251,  ..., 251, 252, 253],\n",
            "         [252, 252, 252,  ..., 252, 252, 252],\n",
            "         [252, 252, 252,  ..., 252, 252, 252]]], dtype=torch.uint8)\n"
          ]
        }
      ]
    },
    {
      "cell_type": "code",
      "source": [
        "from typing import Dict, List, Optional, Union\n",
        "class data_collator:\n",
        "  mask_config = {'msk_region': 'random', 'msk_ratio': 0.2}\n",
        "  max_length: Optional[int] = 1024\n",
        "  max_length_decoder: Optional[int] = 512\n",
        "\n",
        "  def __init__(self, text_tokenizer = tokenizer):\n",
        "    self.text_token = tokenizer\n",
        "    self.Mask_class = Masking_img(mask_config)\n",
        "\n",
        "  def __call__(self, features):\n",
        "    batch = {}\n",
        "    batch_size = len(features)\n",
        "    print(batch_size)\n",
        "\n",
        "    mask_img_list = []\n",
        "    label_img_list= []\n",
        "    for _f in features:\n",
        "      if 'image' in _f:\n",
        "        label_img, masked_img = self.Mask_class(_f)\n",
        "        mask_img_list = torch.stack([masked_img])\n",
        "        label_img_list = torch.stack([label_img])\n",
        "    if 'query' in features[0].keys():\n",
        "      queries = features['query']\n",
        "      token_query = self.text_token(queries, padding=True, truncation=True, return_tensors=\"pt\")\n",
        "      batch.update({'query': token_query['input_ids']})\n",
        "\n",
        "    if 'label' in features[0].keys():\n",
        "      queries = features['label']\n",
        "      token_answers = self.text_token(queries, padding=True, truncation=True, return_tensors=\"pt\")\n",
        "      batch.update({'answer': token_answers['input_ids']})\n",
        "\n",
        "    batch.update({'mask_img':mask_img_list})\n",
        "    batch.update({'label_img':label_img_list})\n",
        "    return batch"
      ],
      "metadata": {
        "id": "ljj8BXSTDcG3"
      },
      "execution_count": 36,
      "outputs": []
    },
    {
      "cell_type": "code",
      "source": [
        "data_call = data_collator()\n",
        "batch=data_call(example_data)"
      ],
      "metadata": {
        "id": "CvBo14U5qcLS",
        "colab": {
          "base_uri": "https://localhost:8080/"
        },
        "outputId": "8833d05e-02bf-45ff-e411-e5c7ed545b2f"
      },
      "execution_count": 37,
      "outputs": [
        {
          "output_type": "stream",
          "name": "stdout",
          "text": [
            "10\n",
            "two_col_103562.png\n",
            "Image size: (836, 800)\n",
            "Random range\n",
            "two_col_2954.png\n",
            "Image size: (557, 800)\n",
            "Random range\n",
            "two_col_2954.png\n",
            "Image size: (557, 800)\n",
            "Random range\n",
            "two_col_61737.png\n",
            "Image size: (716, 800)\n",
            "Random range\n",
            "multi_col_40810.png\n",
            "Image size: (1056, 800)\n",
            "Random range\n",
            "two_col_62773.png\n",
            "Image size: (557, 800)\n",
            "Random range\n",
            "two_col_82868.png\n",
            "Image size: (557, 800)\n",
            "Random range\n",
            "two_col_60067.png\n",
            "Image size: (557, 800)\n",
            "Random range\n",
            "two_col_60067.png\n",
            "Image size: (557, 800)\n",
            "Random range\n",
            "two_col_812.png\n",
            "Image size: (1286, 800)\n",
            "Random range\n"
          ]
        }
      ]
    },
    {
      "cell_type": "code",
      "source": [
        "batch"
      ],
      "metadata": {
        "colab": {
          "base_uri": "https://localhost:8080/"
        },
        "id": "Yw_IfAVatsQx",
        "outputId": "58f61779-5fa0-44ce-c39f-287bbbb3e0a0"
      },
      "execution_count": 38,
      "outputs": [
        {
          "output_type": "execute_result",
          "data": {
            "text/plain": [
              "{'query': tensor([[  282,    13,   460,  2658,     6,   149,   186, 10183,  8342,   141,\n",
              "          21945,   751,    58,     1,     0,     0,     0,     0,     0,     0,\n",
              "              0,     0,     0,     0],\n",
              "         [  363,   467,     3, 12403,     8, 12321,    28, 11696, 18561,   770,\n",
              "            716,  7533,    30, 12119,    17,   524,    16,     8,   166,   985,\n",
              "             13,  1360,    58,     1],\n",
              "         [  571,   186,   716,   410,  3815,    13, 13637,     7,  1605,    30,\n",
              "          12119,    17,   524,    16,     8,   166,   985,    13,  1360,    58,\n",
              "              1,     0,     0,     0],\n",
              "         [ 4073,   684,    47,     8,  1374, 14106,  8106,    12,  3434,    16,\n",
              "           1360,    58,     1,     0,     0,     0,     0,     0,     0,     0,\n",
              "              0,     0,     0,     0],\n",
              "         [  363,    19,     8,  1719,    28,     8,  2030,   381,    13,    27,\n",
              "           5211,     7,    16,  5308,    58,     1,     0,     0,     0,     0,\n",
              "              0,     0,     0,     0],\n",
              "         [  363,    47,     8,  1252,  1085,  2055,    13,  4970,  4506, 16628,\n",
              "           1331,  1975,    16,   846,    58,     1,     0,     0,     0,     0,\n",
              "              0,     0,     0,     0],\n",
              "         [  363,  5294,    13, 28996,    31,     7, 11284,   410,     8,  1157,\n",
              "           2814,   866,    12,    16,  1360,    58,     1,     0,     0,     0,\n",
              "              0,     0,     0,     0],\n",
              "         [   86,   125,   215,   410,     8, 11511,   789,  1492,  4357,  4241,\n",
              "           2108,  3740,    16,     8,  2716,    58,     1,     0,     0,     0,\n",
              "              0,     0,     0,     0],\n",
              "         [  571,   231,   410,     8, 11511,   789,  1492,    16,     8,  2716,\n",
              "              3,     9,   215,  2283,    58,     1,     0,     0,     0,     0,\n",
              "              0,     0,     0,     0],\n",
              "         [  363,  5294,    13,     8, 11284,    13,     8,   907,  1323,    47,\n",
              "          27343,    16,  5541,    58,     1,     0,     0,     0,     0,     0,\n",
              "              0,     0,     0,     0]]),\n",
              " 'answer': tensor([[  898,     1,     0,     0,     0],\n",
              "         [ 3815,    13, 13637,     7,     1],\n",
              "         [11696, 18561,     1,     0,     0],\n",
              "         [12527,     1,     0,     0,     0],\n",
              "         [  301,  8038,   986,    63,     1],\n",
              "         [  489, 27869,     1,     0,     0],\n",
              "         [    3,  4327,     5,  5373,     1],\n",
              "         [ 6503,     1,     0,     0,     0],\n",
              "         [ 4357,  4241,     1,     0,     0],\n",
              "         [ 5835,  2773,     1,     0,     0]]),\n",
              " 'mask_img': tensor([[[[253, 253, 253,  ..., 252, 252, 252],\n",
              "           [253, 253, 253,  ..., 252, 251, 251],\n",
              "           [253, 253, 252,  ..., 251, 251, 251],\n",
              "           ...,\n",
              "           [251, 250, 249,  ..., 250, 251, 251],\n",
              "           [251, 250, 250,  ..., 250, 251, 251],\n",
              "           [251, 251, 250,  ..., 251, 251, 252]],\n",
              " \n",
              "          [[253, 253, 253,  ..., 252, 252, 252],\n",
              "           [253, 253, 254,  ..., 252, 251, 251],\n",
              "           [253, 254, 253,  ..., 252, 251, 251],\n",
              "           ...,\n",
              "           [252, 251, 250,  ..., 251, 252, 251],\n",
              "           [252, 251, 251,  ..., 251, 252, 251],\n",
              "           [251, 252, 251,  ..., 252, 251, 252]],\n",
              " \n",
              "          [[254, 254, 254,  ..., 253, 254, 254],\n",
              "           [254, 254, 254,  ..., 254, 253, 253],\n",
              "           [254, 254, 253,  ..., 253, 253, 253],\n",
              "           ...,\n",
              "           [253, 252, 251,  ..., 252, 253, 252],\n",
              "           [252, 252, 252,  ..., 252, 252, 252],\n",
              "           [252, 252, 252,  ..., 252, 252, 253]]]], dtype=torch.uint8),\n",
              " 'label_img': tensor([[[[253, 253, 253,  ..., 252, 252, 252],\n",
              "           [253, 253, 253,  ..., 252, 251, 251],\n",
              "           [253, 253, 252,  ..., 251, 251, 251],\n",
              "           ...,\n",
              "           [251, 250, 249,  ..., 250, 251, 251],\n",
              "           [251, 250, 250,  ..., 250, 251, 251],\n",
              "           [251, 251, 250,  ..., 251, 251, 252]],\n",
              " \n",
              "          [[253, 253, 253,  ..., 252, 252, 252],\n",
              "           [253, 253, 254,  ..., 252, 251, 251],\n",
              "           [253, 254, 253,  ..., 252, 251, 251],\n",
              "           ...,\n",
              "           [252, 251, 250,  ..., 251, 252, 251],\n",
              "           [252, 251, 251,  ..., 251, 252, 251],\n",
              "           [251, 252, 251,  ..., 252, 251, 252]],\n",
              " \n",
              "          [[254, 254, 254,  ..., 253, 254, 254],\n",
              "           [254, 254, 254,  ..., 254, 253, 253],\n",
              "           [254, 254, 253,  ..., 253, 253, 253],\n",
              "           ...,\n",
              "           [253, 252, 251,  ..., 252, 253, 252],\n",
              "           [252, 252, 252,  ..., 252, 252, 252],\n",
              "           [252, 252, 252,  ..., 252, 252, 253]]]], dtype=torch.uint8)}"
            ]
          },
          "metadata": {},
          "execution_count": 38
        }
      ]
    },
    {
      "cell_type": "code",
      "source": [
        "!nvidia-smi"
      ],
      "metadata": {
        "colab": {
          "base_uri": "https://localhost:8080/"
        },
        "id": "lgiRFxFE3Q-W",
        "outputId": "e71007bb-0f66-4d11-e057-3e105911777c"
      },
      "execution_count": 40,
      "outputs": [
        {
          "output_type": "stream",
          "name": "stdout",
          "text": [
            "Thu Sep 28 03:40:24 2023       \n",
            "+-----------------------------------------------------------------------------+\n",
            "| NVIDIA-SMI 525.105.17   Driver Version: 525.105.17   CUDA Version: 12.0     |\n",
            "|-------------------------------+----------------------+----------------------+\n",
            "| GPU  Name        Persistence-M| Bus-Id        Disp.A | Volatile Uncorr. ECC |\n",
            "| Fan  Temp  Perf  Pwr:Usage/Cap|         Memory-Usage | GPU-Util  Compute M. |\n",
            "|                               |                      |               MIG M. |\n",
            "|===============================+======================+======================|\n",
            "|   0  Tesla T4            Off  | 00000000:00:04.0 Off |                    0 |\n",
            "| N/A   42C    P8     9W /  70W |      0MiB / 15360MiB |      0%      Default |\n",
            "|                               |                      |                  N/A |\n",
            "+-------------------------------+----------------------+----------------------+\n",
            "                                                                               \n",
            "+-----------------------------------------------------------------------------+\n",
            "| Processes:                                                                  |\n",
            "|  GPU   GI   CI        PID   Type   Process name                  GPU Memory |\n",
            "|        ID   ID                                                   Usage      |\n",
            "|=============================================================================|\n",
            "|  No running processes found                                                 |\n",
            "+-----------------------------------------------------------------------------+\n"
          ]
        }
      ]
    },
    {
      "cell_type": "code",
      "source": [
        "# import torch\n",
        "# import requests\n",
        "# from PIL import Image\n",
        "# from transformers import BlipProcessor, BlipForQuestionAnswering\n",
        "\n",
        "# processor = BlipProcessor.from_pretrained(\"ybelkada/blip-vqa-base\")\n",
        "# model = BlipForQuestionAnswering.from_pretrained(\"ybelkada/blip-vqa-base\", torch_dtype=torch.float16).to(\"cuda\")\n",
        "\n",
        "# img_url = 'https://storage.googleapis.com/sfr-vision-language-research/BLIP/demo.jpg'\n",
        "# raw_image = Image.open(requests.get(img_url, stream=True).raw).convert('RGB')\n",
        "\n",
        "# question = \"how many dogs are in the picture?\"\n",
        "# inputs = processor(raw_image, question, return_tensors=\"pt\").to(\"cuda\", torch.float16)\n",
        "\n",
        "# out = model.generate(**inputs)\n",
        "# print(processor.decode(out[0], skip_special_tokens=True))"
      ],
      "metadata": {
        "id": "8EBYjUBZztb9"
      },
      "execution_count": 41,
      "outputs": []
    },
    {
      "cell_type": "code",
      "source": [
        "\"\"\"\n",
        "Deplot inference\n",
        "\"\"\"\n",
        "from transformers import Pix2StructProcessor, Pix2StructForConditionalGeneration\n",
        "import requests\n",
        "from PIL import Image\n",
        "\n",
        "processor = Pix2StructProcessor.from_pretrained('google/deplot')\n",
        "model = Pix2StructForConditionalGeneration.from_pretrained('google/deplot')\n",
        "\n",
        "url = \"https://raw.githubusercontent.com/vis-nlp/ChartQA/main/ChartQA%20Dataset/val/png/5090.png\"\n",
        "image = Image.open(requests.get(url, stream=True).raw)\n",
        "\n",
        "inputs = processor(images=image, text=\"Generate underlying data table of the figure below:\", return_tensors=\"pt\")\n",
        "predictions = model.generate(**inputs, max_new_tokens=512)\n",
        "print(processor.decode(predictions[0], skip_special_tokens=True))"
      ],
      "metadata": {
        "colab": {
          "base_uri": "https://localhost:8080/",
          "height": 86,
          "referenced_widgets": [
            "53caaaa8198848cf8186fb66a0c1977c",
            "01f6e11f63cc40fc8e68c600d7359f41",
            "022ce0978fe1411e818d2927c51172ac",
            "5179adf8091b49ed967af9983fd9d522",
            "3015b9ef30e6459cb77fb96cc61c7f20",
            "8341cf3b032442b18cfc77c7b956e78e",
            "3459288e0d034ab386ce2e6894d3a588",
            "22751dcfcd854aa9999b49603399b29a",
            "af00ee81e04843a9a644cf85ffff510e",
            "e2987d596b5c4cb680061c37048bd462",
            "9c391c22d0ac4c7d90e3e36af42d7ced"
          ]
        },
        "id": "4v2_6zf21isZ",
        "outputId": "9460d0fe-dd4c-483b-e54a-25f5e62910dc"
      },
      "execution_count": 43,
      "outputs": [
        {
          "output_type": "display_data",
          "data": {
            "text/plain": [
              "Downloading (…)solve/main/Arial.TTF:   0%|          | 0.00/276k [00:00<?, ?B/s]"
            ],
            "application/vnd.jupyter.widget-view+json": {
              "version_major": 2,
              "version_minor": 0,
              "model_id": "53caaaa8198848cf8186fb66a0c1977c"
            }
          },
          "metadata": {}
        },
        {
          "output_type": "stream",
          "name": "stdout",
          "text": [
            "Entity | Individuals responsibility | Government's responsibility <0x0A> MEDIAN | 39.0 | 55.0 <0x0A> Germany | nan | 35.0 <0x0A> UK | 45.0 | 49.0 <0x0A> Sweden | 37.0 | 53.0 <0x0A> Denmark | 42.0 | 54.0 <0x0A> France | 38.0 | 55.0 <0x0A> Netherla nns | 40.0 | 58.0 <0x0A> Spain | 29.0 | 63.0 <0x0A> Italy | 22.0 | 74.0\n"
          ]
        }
      ]
    },
    {
      "cell_type": "code",
      "source": [],
      "metadata": {
        "id": "IDg8S3Sj5l88"
      },
      "execution_count": null,
      "outputs": []
    }
  ]
}